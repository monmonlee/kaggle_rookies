{
 "cells": [
  {
   "cell_type": "markdown",
   "metadata": {},
   "source": [
    "Baseline model using XGBoost"
   ]
  },
  {
   "cell_type": "code",
   "execution_count": null,
   "metadata": {},
   "outputs": [],
   "source": [
    "# BASE\n",
    "# ------------------------------------------------------\n",
    "import numpy as np\n",
    "import pandas as pd\n",
    "import os\n",
    "import gc\n",
    "import warnings\n",
    "\n",
    "# PACF - ACF\n",
    "# ------------------------------------------------------\n",
    "import statsmodels.api as sm\n",
    "\n",
    "# DATA VISUALIZATION\n",
    "# ------------------------------------------------------\n",
    "import matplotlib.pyplot as plt\n",
    "import seaborn as sns\n",
    "import plotly.express as px\n",
    "\n",
    "\n",
    "# CONFIGURATIONS\n",
    "# ------------------------------------------------------\n",
    "pd.set_option('display.max_columns', None)\n",
    "pd.options.display.float_format = '{:.2f}'.format\n",
    "warnings.filterwarnings('ignore')"
   ]
  },
  {
   "cell_type": "code",
   "execution_count": 16,
   "metadata": {},
   "outputs": [
    {
     "name": "stdout",
     "output_type": "stream",
     "text": [
      "/Users/chloeyueh/Documents/git-repos/kaggle_rookies/competition-data/test.csv\n",
      "/Users/chloeyueh/Documents/git-repos/kaggle_rookies/competition-data/transactions.csv\n",
      "/Users/chloeyueh/Documents/git-repos/kaggle_rookies/competition-data/oil.csv\n",
      "/Users/chloeyueh/Documents/git-repos/kaggle_rookies/competition-data/holidays_events.csv\n",
      "/Users/chloeyueh/Documents/git-repos/kaggle_rookies/competition-data/sample_submission.csv\n",
      "/Users/chloeyueh/Documents/git-repos/kaggle_rookies/competition-data/stores.csv\n"
     ]
    }
   ],
   "source": [
    "import os\n",
    "for dirname, _, filenames in os.walk('/Users/chloeyueh/Documents/git-repos/kaggle_rookies/competition-data'):\n",
    "    for filename in filenames:\n",
    "        print(os.path.join(dirname, filename))"
   ]
  },
  {
   "cell_type": "code",
   "execution_count": 26,
   "metadata": {},
   "outputs": [],
   "source": [
    "# Read the data from all the files and keeping it for future use\n",
    "train_df = pd.read_csv('/Users/chloeyueh/Documents/git-repos/kaggle_rookies/competition-data/train.csv')\n",
    "test_df = pd.read_csv('/Users/chloeyueh/Documents/git-repos/kaggle_rookies/competition-data/test.csv')\n",
    "store_df = pd.read_csv('/Users/chloeyueh/Documents/git-repos/kaggle_rookies/competition-data/stores.csv')\n",
    "tr_df = pd.read_csv('/Users/chloeyueh/Documents/git-repos/kaggle_rookies/competition-data/transactions.csv')\n",
    "oil_df = pd.read_csv('/Users/chloeyueh/Documents/git-repos/kaggle_rookies/competition-data/oil.csv')\n",
    "hol_df = pd.read_csv('/Users/chloeyueh/Documents/git-repos/kaggle_rookies/competition-data/holidays_events.csv')\n",
    "sample_df = pd.read_csv('/Users/chloeyueh/Documents/git-repos/kaggle_rookies/competition-data/sample_submission.csv')"
   ]
  }
 ],
 "metadata": {
  "kernelspec": {
   "display_name": "Python 3",
   "language": "python",
   "name": "python3"
  },
  "language_info": {
   "codemirror_mode": {
    "name": "ipython",
    "version": 3
   },
   "file_extension": ".py",
   "mimetype": "text/x-python",
   "name": "python",
   "nbconvert_exporter": "python",
   "pygments_lexer": "ipython3",
   "version": "3.9.6"
  }
 },
 "nbformat": 4,
 "nbformat_minor": 2
}
